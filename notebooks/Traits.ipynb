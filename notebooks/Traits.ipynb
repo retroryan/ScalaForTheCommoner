{
 "cells": [
  {
   "cell_type": "code",
   "execution_count": null,
   "metadata": {
    "collapsed": false
   },
   "outputs": [],
   "source": [
    "abstract class Ark {\n",
    "    def get():String\n",
    "    def put(s:String)\n",
    "}\n",
    "\n",
    "import scala.collection.mutable.ArrayBuffer\n",
    "\n",
    "class BasicArk extends Ark {\n",
    "    private val buf = new ArrayBuffer[String]\n",
    "    def get = buf.remove(0)\n",
    "    def put(a:String) {buf += a}\n",
    "}\n",
    "\n",
    "trait Pairs extends Ark {\n",
    "    abstract override def put(x:String) {super.put(s\"$x $x\")}\n",
    "}\n",
    "\n",
    "trait ModifiedPairs extends Ark {\n",
    "    abstract override def put(x:String) {\n",
    "        val nx = \"genetic:\"+x\n",
    "        super.put(s\"$nx $nx\")\n",
    "    }\n",
    "}"
   ]
  },
  {
   "cell_type": "code",
   "execution_count": null,
   "metadata": {
    "collapsed": false
   },
   "outputs": [],
   "source": [
    "val m = new BasicArk\n",
    "m.put(\"Dog\")\n",
    "m.get()"
   ]
  },
  {
   "cell_type": "code",
   "execution_count": null,
   "metadata": {
    "collapsed": false
   },
   "outputs": [],
   "source": [
    "class MyArk extends BasicArk with Pairs\n",
    "val m = new MyArk\n",
    "m.put(\"Dog\")\n",
    "m.get()"
   ]
  },
  {
   "cell_type": "code",
   "execution_count": null,
   "metadata": {
    "collapsed": false
   },
   "outputs": [],
   "source": [
    "val m2 = new MyArk with ModifiedPairs\n",
    "m2.put(\"Dog\")\n",
    "m2.get()"
   ]
  },
  {
   "cell_type": "code",
   "execution_count": null,
   "metadata": {
    "collapsed": false
   },
   "outputs": [],
   "source": [
    "class YourArk extends BasicArk with ModifiedPairs\n",
    "val m3 = new YourArk\n",
    "m3.put(\"Dog\")\n",
    "m3.get()"
   ]
  },
  {
   "cell_type": "code",
   "execution_count": null,
   "metadata": {
    "collapsed": false
   },
   "outputs": [],
   "source": [
    "val m4 = new YourArk with Pairs\n",
    "m4.put(\"Dog\")\n",
    "m4.get()"
   ]
  },
  {
   "cell_type": "code",
   "execution_count": null,
   "metadata": {
    "collapsed": true
   },
   "outputs": [],
   "source": []
  },
  {
   "cell_type": "code",
   "execution_count": null,
   "metadata": {
    "collapsed": true
   },
   "outputs": [],
   "source": []
  }
 ],
 "metadata": {
  "kernelspec": {
   "display_name": "Scala 2.11",
   "language": "scala211",
   "name": "scala211"
  },
  "language_info": {
   "codemirror_mode": "text/x-scala",
   "file_extension": ".scala",
   "mimetype": "text/x-scala",
   "name": "scala211",
   "pygments_lexer": "scala",
   "version": "2.11.8"
  }
 },
 "nbformat": 4,
 "nbformat_minor": 1
}
