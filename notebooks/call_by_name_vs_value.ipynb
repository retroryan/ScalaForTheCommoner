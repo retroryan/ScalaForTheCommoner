{
 "cells": [
  {
   "cell_type": "code",
   "execution_count": 10,
   "metadata": {
    "collapsed": false
   },
   "outputs": [
    {
     "data": {
      "text/plain": [
       "\u001b[36mrand\u001b[0m: () => \u001b[32mBoolean\u001b[0m = <function0>\n",
       "defined \u001b[32mfunction \u001b[36mflipCoin\u001b[0m\n",
       "defined \u001b[32mfunction \u001b[36mmultiFlipByValue\u001b[0m\n",
       "defined \u001b[32mfunction \u001b[36mmultiFlipByName\u001b[0m"
      ]
     },
     "metadata": {},
     "output_type": "display_data"
    }
   ],
   "source": [
    "val rand = () => scala.util.Random.nextBoolean()\n",
    "\n",
    "def flipCoin(getbool: Boolean) = {\n",
    "    getbool match {\n",
    "      case true => \"heads\"\n",
    "      case false => \"tails\"\n",
    "    }\n",
    "  }\n",
    "\n",
    "def multiFlipByValue(getbool:Boolean) = {\n",
    "    println(s\"${flipCoin(getbool)}\")\n",
    "    println(s\"${flipCoin(getbool)}\")\n",
    "    println(s\"${flipCoin(getbool)}\")\n",
    "    println(s\"${flipCoin(getbool)}\")\n",
    "}\n",
    "\n",
    "def multiFlipByName(getbool: => Boolean) = {\n",
    "    println(s\"${flipCoin(getbool)}\")\n",
    "    println(s\"${flipCoin(getbool)}\")\n",
    "    println(s\"${flipCoin(getbool)}\")\n",
    "    println(s\"${flipCoin(getbool)}\")\n",
    "}"
   ]
  },
  {
   "cell_type": "code",
   "execution_count": 16,
   "metadata": {
    "collapsed": false
   },
   "outputs": [
    {
     "name": "stdout",
     "output_type": "stream",
     "text": [
      "tails\n",
      "tails\n",
      "tails\n",
      "tails\n"
     ]
    },
    {
     "data": {
      "text/plain": []
     },
     "metadata": {},
     "output_type": "display_data"
    }
   ],
   "source": [
    "multiFlipByValue(rand())"
   ]
  },
  {
   "cell_type": "code",
   "execution_count": 17,
   "metadata": {
    "collapsed": false
   },
   "outputs": [
    {
     "name": "stdout",
     "output_type": "stream",
     "text": [
      "heads\n",
      "tails\n",
      "tails\n",
      "tails\n"
     ]
    },
    {
     "data": {
      "text/plain": []
     },
     "metadata": {},
     "output_type": "display_data"
    }
   ],
   "source": [
    "multiFlipByName(rand())"
   ]
  }
 ],
 "metadata": {
  "kernelspec": {
   "display_name": "Scala 2.11",
   "language": "scala211",
   "name": "scala211"
  },
  "language_info": {
   "codemirror_mode": "text/x-scala",
   "file_extension": ".scala",
   "mimetype": "text/x-scala",
   "name": "scala211",
   "pygments_lexer": "scala",
   "version": "2.11.8"
  }
 },
 "nbformat": 4,
 "nbformat_minor": 1
}
