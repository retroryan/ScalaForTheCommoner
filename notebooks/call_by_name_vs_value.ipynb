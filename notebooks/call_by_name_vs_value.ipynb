{
 "cells": [
  {
   "cell_type": "code",
   "execution_count": null,
   "metadata": {
    "collapsed": false
   },
   "outputs": [],
   "source": [
    "val rand = () => scala.util.Random.nextBoolean()\n",
    "\n",
    "def flipCoin(getbool: Boolean) = {\n",
    "    getbool match {\n",
    "      case true => \"heads\"\n",
    "      case false => \"tails\"\n",
    "    }\n",
    "  }\n",
    "\n",
    "def multiFlipByValue(getbool:Boolean) = {\n",
    "    println(s\"${flipCoin(getbool)}\")\n",
    "    println(s\"${flipCoin(getbool)}\")\n",
    "    println(s\"${flipCoin(getbool)}\")\n",
    "    println(s\"${flipCoin(getbool)}\")\n",
    "}\n",
    "\n",
    "def multiFlipByName(getbool: => Boolean) = {\n",
    "    println(s\"${flipCoin(getbool)}\")\n",
    "    println(s\"${flipCoin(getbool)}\")\n",
    "    println(s\"${flipCoin(getbool)}\")\n",
    "    println(s\"${flipCoin(getbool)}\")\n",
    "}"
   ]
  },
  {
   "cell_type": "code",
   "execution_count": null,
   "metadata": {
    "collapsed": false
   },
   "outputs": [],
   "source": [
    "multiFlipByValue(rand())"
   ]
  },
  {
   "cell_type": "code",
   "execution_count": null,
   "metadata": {
    "collapsed": false
   },
   "outputs": [],
   "source": [
    "multiFlipByName(rand())"
   ]
  }
 ],
 "metadata": {
  "kernelspec": {
   "display_name": "Scala 2.11",
   "language": "scala211",
   "name": "scala211"
  },
  "language_info": {
   "codemirror_mode": "text/x-scala",
   "file_extension": ".scala",
   "mimetype": "text/x-scala",
   "name": "scala211",
   "pygments_lexer": "scala",
   "version": "2.11.8"
  }
 },
 "nbformat": 4,
 "nbformat_minor": 1
}
