{
 "cells": [
  {
   "cell_type": "code",
   "execution_count": 1,
   "metadata": {
    "collapsed": false
   },
   "outputs": [
    {
     "data": {
      "text/plain": [
       "\u001b[36mlst\u001b[0m: \u001b[32mList\u001b[0m[\u001b[32mInt\u001b[0m] = \u001b[33mList\u001b[0m(\u001b[32m5\u001b[0m, \u001b[32m6\u001b[0m, \u001b[32m7\u001b[0m, \u001b[32m8\u001b[0m, \u001b[32m9\u001b[0m, \u001b[32m10\u001b[0m, \u001b[32m11\u001b[0m, \u001b[32m12\u001b[0m, \u001b[32m13\u001b[0m, \u001b[32m14\u001b[0m, \u001b[32m15\u001b[0m, \u001b[32m16\u001b[0m, \u001b[32m17\u001b[0m, \u001b[32m18\u001b[0m, \u001b[32m19\u001b[0m, \u001b[32m20\u001b[0m)"
      ]
     },
     "metadata": {},
     "output_type": "display_data"
    }
   ],
   "source": [
    "val lst = (5 to 20).toList"
   ]
  },
  {
   "cell_type": "code",
   "execution_count": 2,
   "metadata": {
    "collapsed": false
   },
   "outputs": [
    {
     "data": {
      "text/plain": [
       "\u001b[36mindxLst\u001b[0m: \u001b[32mList\u001b[0m[(\u001b[32mInt\u001b[0m, \u001b[32mInt\u001b[0m)] = \u001b[33mList\u001b[0m(\n",
       "  \u001b[33m\u001b[0m(\u001b[32m5\u001b[0m, \u001b[32m0\u001b[0m),\n",
       "  \u001b[33m\u001b[0m(\u001b[32m6\u001b[0m, \u001b[32m1\u001b[0m),\n",
       "  \u001b[33m\u001b[0m(\u001b[32m7\u001b[0m, \u001b[32m2\u001b[0m),\n",
       "  \u001b[33m\u001b[0m(\u001b[32m8\u001b[0m, \u001b[32m3\u001b[0m),\n",
       "  \u001b[33m\u001b[0m(\u001b[32m9\u001b[0m, \u001b[32m4\u001b[0m),\n",
       "  \u001b[33m\u001b[0m(\u001b[32m10\u001b[0m, \u001b[32m5\u001b[0m),\n",
       "  \u001b[33m\u001b[0m(\u001b[32m11\u001b[0m, \u001b[32m6\u001b[0m),\n",
       "  \u001b[33m\u001b[0m(\u001b[32m12\u001b[0m, \u001b[32m7\u001b[0m),\n",
       "  \u001b[33m\u001b[0m(\u001b[32m13\u001b[0m, \u001b[32m8\u001b[0m),\n",
       "  \u001b[33m\u001b[0m(\u001b[32m14\u001b[0m, \u001b[32m9\u001b[0m),\n",
       "  \u001b[33m\u001b[0m(\u001b[32m15\u001b[0m, \u001b[32m10\u001b[0m),\n",
       "  \u001b[33m\u001b[0m(\u001b[32m16\u001b[0m, \u001b[32m11\u001b[0m),\n",
       "  \u001b[33m\u001b[0m(\u001b[32m17\u001b[0m, \u001b[32m12\u001b[0m),\n",
       "  \u001b[33m\u001b[0m(\u001b[32m18\u001b[0m, \u001b[32m13\u001b[0m),\n",
       "  \u001b[33m\u001b[0m(\u001b[32m19\u001b[0m, \u001b[32m14\u001b[0m),\n",
       "  \u001b[33m\u001b[0m(\u001b[32m20\u001b[0m, \u001b[32m15\u001b[0m)\n",
       ")"
      ]
     },
     "metadata": {},
     "output_type": "display_data"
    }
   ],
   "source": [
    "val indxLst = lst.zipWithIndex"
   ]
  },
  {
   "cell_type": "code",
   "execution_count": null,
   "metadata": {
    "collapsed": false
   },
   "outputs": [],
   "source": [
    "indxLst.map {\n",
    "    case (x,i) => x+i\n",
    "}"
   ]
  }
 ],
 "metadata": {
  "kernelspec": {
   "display_name": "Scala 2.11",
   "language": "scala211",
   "name": "scala211"
  },
  "language_info": {
   "codemirror_mode": "text/x-scala",
   "file_extension": ".scala",
   "mimetype": "text/x-scala",
   "name": "scala211",
   "pygments_lexer": "scala",
   "version": "2.11.8"
  }
 },
 "nbformat": 4,
 "nbformat_minor": 1
}
