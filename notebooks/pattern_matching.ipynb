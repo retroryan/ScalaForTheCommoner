{
 "cells": [
  {
   "cell_type": "markdown",
   "metadata": {},
   "source": [
    "### Match on a Value"
   ]
  },
  {
   "cell_type": "code",
   "execution_count": null,
   "metadata": {
    "collapsed": false
   },
   "outputs": [],
   "source": [
    "val rand = scala.util.Random.nextBoolean()\n",
    "\n",
    "def flipCoin(getbool: Boolean) = {\n",
    "    getbool match {\n",
    "      case true => \"heads\"\n",
    "      case false => \"tails\"\n",
    "    }\n",
    "  }\n",
    "\n",
    "flipCoin(rand)"
   ]
  },
  {
   "cell_type": "markdown",
   "metadata": {},
   "source": [
    "### Match on a Type"
   ]
  },
  {
   "cell_type": "code",
   "execution_count": null,
   "metadata": {
    "collapsed": false
   },
   "outputs": [],
   "source": [
    "abstract class Pet\n",
    "\n",
    "class Dog extends Pet {\n",
    "  override def toString() = \"Dog\"\n",
    "}\n",
    "\n",
    "class Cat extends Pet {\n",
    "  override def toString() = \"Cat\"\n",
    "}\n",
    "  \n",
    "val dogOrCat: Pet = if (randomBoolean) new Dog else new Cat\n",
    "\n",
    "dogOrCat match {\n",
    "case dog: Dog => println(\"a dog\")\n",
    "case cat: Cat => println(\"a cat\")\n",
    "}\n",
    "  "
   ]
  },
  {
   "cell_type": "markdown",
   "metadata": {},
   "source": [
    "### Matching Lists"
   ]
  },
  {
   "cell_type": "code",
   "execution_count": 16,
   "metadata": {
    "collapsed": false
   },
   "outputs": [
    {
     "data": {
      "text/plain": [
       "\u001b[36mlst\u001b[0m: \u001b[32mList\u001b[0m[\u001b[32mInt\u001b[0m] = \u001b[33mList\u001b[0m(\u001b[32m20\u001b[0m, \u001b[32m23\u001b[0m, \u001b[32m26\u001b[0m, \u001b[32m29\u001b[0m, \u001b[32m32\u001b[0m, \u001b[32m35\u001b[0m, \u001b[32m38\u001b[0m)"
      ]
     },
     "metadata": {},
     "output_type": "display_data"
    }
   ],
   "source": [
    "val lst = (20 to 40 by 3).toList"
   ]
  },
  {
   "cell_type": "code",
   "execution_count": 17,
   "metadata": {
    "collapsed": false
   },
   "outputs": [
    {
     "data": {
      "text/plain": [
       "\u001b[36mres16\u001b[0m: \u001b[32mList\u001b[0m[\u001b[32mInt\u001b[0m] = \u001b[33mList\u001b[0m(\u001b[32m20\u001b[0m, \u001b[32m26\u001b[0m, \u001b[32m29\u001b[0m, \u001b[32m32\u001b[0m, \u001b[32m35\u001b[0m, \u001b[32m38\u001b[0m)"
      ]
     },
     "metadata": {},
     "output_type": "display_data"
    }
   ],
   "source": [
    "lst match {\n",
    "    case x :: 23 :: xs => x :: xs\n",
    "}"
   ]
  },
  {
   "cell_type": "code",
   "execution_count": 10,
   "metadata": {
    "collapsed": false
   },
   "outputs": [
    {
     "data": {
      "text/plain": [
       "\u001b[36mres9\u001b[0m: \u001b[32mList\u001b[0m[\u001b[32mInt\u001b[0m] = \u001b[33mList\u001b[0m(\u001b[32m20\u001b[0m, \u001b[32m29\u001b[0m, \u001b[32m32\u001b[0m, \u001b[32m35\u001b[0m, \u001b[32m38\u001b[0m)"
      ]
     },
     "metadata": {},
     "output_type": "display_data"
    }
   ],
   "source": [
    "lst match {\n",
    "    case x :: _ :: 26 :: xs =>  x :: xs\n",
    "}"
   ]
  },
  {
   "cell_type": "code",
   "execution_count": 11,
   "metadata": {
    "collapsed": false
   },
   "outputs": [
    {
     "data": {
      "text/plain": [
       "\u001b[36mlst2\u001b[0m: \u001b[32mList\u001b[0m[\u001b[32mInt\u001b[0m] = \u001b[33mList\u001b[0m(\u001b[32m2\u001b[0m, \u001b[32m3\u001b[0m)"
      ]
     },
     "metadata": {},
     "output_type": "display_data"
    }
   ],
   "source": [
    "val lst2 = 2 :: 3 :: Nil"
   ]
  },
  {
   "cell_type": "markdown",
   "metadata": {},
   "source": [
    "### Matching Sequences"
   ]
  },
  {
   "cell_type": "code",
   "execution_count": 45,
   "metadata": {
    "collapsed": false
   },
   "outputs": [
    {
     "data": {
      "text/plain": [
       "\u001b[36mseq\u001b[0m: \u001b[32mRange\u001b[0m = \u001b[33mRange\u001b[0m(\u001b[32m20\u001b[0m, \u001b[32m23\u001b[0m, \u001b[32m26\u001b[0m, \u001b[32m29\u001b[0m, \u001b[32m32\u001b[0m, \u001b[32m35\u001b[0m, \u001b[32m38\u001b[0m)"
      ]
     },
     "metadata": {},
     "output_type": "display_data"
    }
   ],
   "source": [
    "val seq = (20 to 40 by 3).toSeq"
   ]
  },
  {
   "cell_type": "code",
   "execution_count": 46,
   "metadata": {
    "collapsed": false
   },
   "outputs": [
    {
     "data": {
      "text/plain": [
       "\u001b[36mres45\u001b[0m: \u001b[32mcollection\u001b[0m.\u001b[32mimmutable\u001b[0m.\u001b[32mIndexedSeq\u001b[0m[\u001b[32mInt\u001b[0m] = \u001b[33mRange\u001b[0m(\u001b[32m20\u001b[0m, \u001b[32m23\u001b[0m, \u001b[32m26\u001b[0m, \u001b[32m29\u001b[0m, \u001b[32m32\u001b[0m, \u001b[32m35\u001b[0m)"
      ]
     },
     "metadata": {},
     "output_type": "display_data"
    }
   ],
   "source": [
    "seq match {\n",
    "    case xs :+ x => xs\n",
    "}"
   ]
  },
  {
   "cell_type": "code",
   "execution_count": 47,
   "metadata": {
    "collapsed": false
   },
   "outputs": [
    {
     "data": {
      "text/plain": [
       "\u001b[36mres46\u001b[0m: \u001b[32mInt\u001b[0m = \u001b[32m20\u001b[0m"
      ]
     },
     "metadata": {},
     "output_type": "display_data"
    }
   ],
   "source": [
    "seq match {\n",
    "    case xs +: x => xs\n",
    "}"
   ]
  },
  {
   "cell_type": "code",
   "execution_count": 48,
   "metadata": {
    "collapsed": false
   },
   "outputs": [
    {
     "data": {
      "text/plain": [
       "\u001b[36mres47\u001b[0m: \u001b[32mcollection\u001b[0m.\u001b[32mimmutable\u001b[0m.\u001b[32mIndexedSeq\u001b[0m[\u001b[32mInt\u001b[0m] = \u001b[33mRange\u001b[0m(\u001b[32m26\u001b[0m, \u001b[32m29\u001b[0m, \u001b[32m32\u001b[0m, \u001b[32m35\u001b[0m, \u001b[32m38\u001b[0m)"
      ]
     },
     "metadata": {},
     "output_type": "display_data"
    }
   ],
   "source": [
    "seq match {\n",
    "    case 20 +: _ +: x => x\n",
    "}"
   ]
  },
  {
   "cell_type": "code",
   "execution_count": 63,
   "metadata": {
    "collapsed": false
   },
   "outputs": [
    {
     "data": {
      "text/plain": [
       "defined \u001b[32mfunction \u001b[36mmatchThis\u001b[0m\n",
       "defined \u001b[32mfunction \u001b[36mmatchThis2\u001b[0m\n",
       "defined \u001b[32mfunction \u001b[36mmatchThis3\u001b[0m\n",
       "defined \u001b[32mfunction \u001b[36mmatchThis4\u001b[0m"
      ]
     },
     "metadata": {},
     "output_type": "display_data"
    }
   ],
   "source": [
    "def matchThis(v1:Vector[Int]) = v1 match { \n",
    "    case `first` +: x +: `last` +: _ => s\"true $x\"\n",
    "    case _ => false\n",
    "}\n",
    "\n",
    "def matchThis2(v1:Vector[Int]) = v1 match { \n",
    "    case Seq(`first`,x ,`last`, _) => s\"true $x\"\n",
    "    case _ => false\n",
    "}\n",
    "\n",
    "def matchThis3(v1:Vector[Int]) = v1 match { \n",
    "    case Seq(`first`,x ,`last`, _*) => s\"true $x\"\n",
    "    case _ => false\n",
    "}\n",
    "\n",
    "def matchThis4(v1:Vector[Int]) = v1 match { \n",
    "    case Seq(`first`,x ,`last`, xs @ _*) => s\"true $xs\"\n",
    "    case _ => false\n",
    "}"
   ]
  },
  {
   "cell_type": "code",
   "execution_count": 64,
   "metadata": {
    "collapsed": false
   },
   "outputs": [
    {
     "data": {
      "text/plain": [
       "\u001b[36mfirst\u001b[0m: \u001b[32mInt\u001b[0m = \u001b[32m8\u001b[0m\n",
       "\u001b[36mlast\u001b[0m: \u001b[32mInt\u001b[0m = \u001b[32m12\u001b[0m\n",
       "\u001b[36mv1\u001b[0m: \u001b[32mVector\u001b[0m[\u001b[32mInt\u001b[0m] = \u001b[33mVector\u001b[0m(\u001b[32m8\u001b[0m, \u001b[32m10\u001b[0m, \u001b[32m12\u001b[0m, \u001b[32m14\u001b[0m, \u001b[32m16\u001b[0m, \u001b[32m18\u001b[0m, \u001b[32m20\u001b[0m, \u001b[32m22\u001b[0m, \u001b[32m24\u001b[0m, \u001b[32m26\u001b[0m, \u001b[32m28\u001b[0m)\n",
       "\u001b[36mres63_3\u001b[0m: \u001b[32mAny\u001b[0m = true 10\n",
       "\u001b[36mres63_4\u001b[0m: \u001b[32mAny\u001b[0m = false\n",
       "\u001b[36mres63_5\u001b[0m: \u001b[32mAny\u001b[0m = true 10\n",
       "\u001b[36mres63_6\u001b[0m: \u001b[32mAny\u001b[0m = true Vector(14, 16, 18, 20, 22, 24, 26, 28)"
      ]
     },
     "metadata": {},
     "output_type": "display_data"
    }
   ],
   "source": [
    "val first=8\n",
    "val last=12\n",
    "val v1=(8 to 28 by 2).toVector\n",
    "matchThis(v1)\n",
    "matchThis2(v1)\n",
    "matchThis3(v1)\n",
    "matchThis4(v1)"
   ]
  },
  {
   "cell_type": "code",
   "execution_count": 66,
   "metadata": {
    "collapsed": false
   },
   "outputs": [
    {
     "data": {
      "text/plain": [
       "\u001b[36mfirst\u001b[0m: \u001b[32mInt\u001b[0m = \u001b[32m8\u001b[0m\n",
       "\u001b[36mlast\u001b[0m: \u001b[32mInt\u001b[0m = \u001b[32m12\u001b[0m\n",
       "\u001b[36mv2\u001b[0m: \u001b[32mVector\u001b[0m[\u001b[32mInt\u001b[0m] = \u001b[33mVector\u001b[0m(\u001b[32m8\u001b[0m, \u001b[32m10\u001b[0m, \u001b[32m12\u001b[0m, \u001b[32m14\u001b[0m)\n",
       "\u001b[36mres65_3\u001b[0m: \u001b[32mAny\u001b[0m = true 10\n",
       "\u001b[36mres65_4\u001b[0m: \u001b[32mAny\u001b[0m = true 10\n",
       "\u001b[36mres65_5\u001b[0m: \u001b[32mAny\u001b[0m = true 10\n",
       "\u001b[36mres65_6\u001b[0m: \u001b[32mAny\u001b[0m = true Vector(14)"
      ]
     },
     "metadata": {},
     "output_type": "display_data"
    }
   ],
   "source": [
    "val first=8\n",
    "val last=12\n",
    "val v2=(8 to 14 by 2).toVector\n",
    "matchThis(v2)\n",
    "matchThis2(v2)\n",
    "matchThis3(v2)\n",
    "matchThis4(v2)"
   ]
  },
  {
   "cell_type": "code",
   "execution_count": null,
   "metadata": {
    "collapsed": true
   },
   "outputs": [],
   "source": []
  }
 ],
 "metadata": {
  "kernelspec": {
   "display_name": "Scala 2.11",
   "language": "scala211",
   "name": "scala211"
  },
  "language_info": {
   "codemirror_mode": "text/x-scala",
   "file_extension": ".scala",
   "mimetype": "text/x-scala",
   "name": "scala211",
   "pygments_lexer": "scala",
   "version": "2.11.8"
  }
 },
 "nbformat": 4,
 "nbformat_minor": 1
}
