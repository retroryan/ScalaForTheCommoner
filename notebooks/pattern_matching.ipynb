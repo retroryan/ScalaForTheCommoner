{
 "cells": [
  {
   "cell_type": "markdown",
   "metadata": {},
   "source": [
    "### Match on a Value"
   ]
  },
  {
   "cell_type": "code",
   "execution_count": null,
   "metadata": {
    "collapsed": false
   },
   "outputs": [],
   "source": [
    "val rand = scala.util.Random.nextBoolean()\n",
    "\n",
    "def flipCoin(getbool: Boolean) = {\n",
    "    getbool match {\n",
    "      case true => \"heads\"\n",
    "      case false => \"tails\"\n",
    "    }\n",
    "  }\n",
    "\n",
    "flipCoin(rand)"
   ]
  },
  {
   "cell_type": "markdown",
   "metadata": {},
   "source": [
    "### Match on a Type"
   ]
  },
  {
   "cell_type": "code",
   "execution_count": null,
   "metadata": {
    "collapsed": false
   },
   "outputs": [],
   "source": [
    "abstract class Pet\n",
    "\n",
    "class Dog extends Pet {\n",
    "  override def toString() = \"Dog\"\n",
    "}\n",
    "\n",
    "class Cat extends Pet {\n",
    "  override def toString() = \"Cat\"\n",
    "}\n",
    "  \n",
    "val dogOrCat: Pet = if (randomBoolean) new Dog else new Cat\n",
    "\n",
    "dogOrCat match {\n",
    "case dog: Dog => println(\"a dog\")\n",
    "case cat: Cat => println(\"a cat\")\n",
    "}\n",
    "  "
   ]
  }
 ],
 "metadata": {
  "kernelspec": {
   "display_name": "Scala 2.11",
   "language": "scala211",
   "name": "scala211"
  },
  "language_info": {
   "codemirror_mode": "text/x-scala",
   "file_extension": ".scala",
   "mimetype": "text/x-scala",
   "name": "scala211",
   "pygments_lexer": "scala",
   "version": "2.11.8"
  }
 },
 "nbformat": 4,
 "nbformat_minor": 1
}
