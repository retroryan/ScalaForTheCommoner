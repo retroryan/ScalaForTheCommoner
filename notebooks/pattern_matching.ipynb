{
 "cells": [
  {
   "cell_type": "markdown",
   "metadata": {},
   "source": [
    "### Match on a Value"
   ]
  },
  {
   "cell_type": "code",
   "execution_count": 130,
   "metadata": {
    "collapsed": false
   },
   "outputs": [
    {
     "data": {
      "text/plain": [
       "\u001b[36mrand\u001b[0m: \u001b[32mBoolean\u001b[0m = \u001b[32mfalse\u001b[0m\n",
       "defined \u001b[32mfunction \u001b[36mflipCoin\u001b[0m\n",
       "\u001b[36mres129_2\u001b[0m: \u001b[32mString\u001b[0m = \u001b[32m\"tails\"\u001b[0m"
      ]
     },
     "metadata": {},
     "output_type": "display_data"
    }
   ],
   "source": [
    "val rand = scala.util.Random.nextBoolean()\n",
    "\n",
    "def flipCoin(getbool: Boolean) = {\n",
    "    getbool match {\n",
    "      case true => \"heads\"\n",
    "      case false => \"tails\"\n",
    "    }\n",
    "  }\n",
    "\n",
    "flipCoin(rand)"
   ]
  },
  {
   "cell_type": "markdown",
   "metadata": {},
   "source": [
    "### Match on a Type"
   ]
  },
  {
   "cell_type": "code",
   "execution_count": 101,
   "metadata": {
    "collapsed": false
   },
   "outputs": [
    {
     "name": "stdout",
     "output_type": "stream",
     "text": [
      "a dog\n"
     ]
    },
    {
     "data": {
      "text/plain": [
       "defined \u001b[32mclass \u001b[36mPet\u001b[0m\n",
       "defined \u001b[32mclass \u001b[36mDog\u001b[0m\n",
       "defined \u001b[32mclass \u001b[36mCat\u001b[0m\n",
       "\u001b[36mdogOrCat\u001b[0m: \u001b[32m$user\u001b[0m.\u001b[32mPet\u001b[0m = Dog"
      ]
     },
     "metadata": {},
     "output_type": "display_data"
    }
   ],
   "source": [
    "abstract class Pet\n",
    "\n",
    "class Dog extends Pet {\n",
    "  override def toString() = \"Dog\"\n",
    "}\n",
    "\n",
    "class Cat extends Pet {\n",
    "  override def toString() = \"Cat\"\n",
    "}\n",
    "  \n",
    "val dogOrCat: Pet = if (randomBoolean) new Dog else new Cat\n",
    "\n",
    "dogOrCat match {\n",
    "case dog: Dog => println(\"a dog\")\n",
    "case cat: Cat => println(\"a cat\")\n",
    "}\n",
    "  "
   ]
  }
 ],
 "metadata": {
  "kernelspec": {
   "display_name": "Scala 2.11",
   "language": "scala211",
   "name": "scala211"
  },
  "language_info": {
   "codemirror_mode": "text/x-scala",
   "file_extension": ".scala",
   "mimetype": "text/x-scala",
   "name": "scala211",
   "pygments_lexer": "scala",
   "version": "2.11.8"
  }
 },
 "nbformat": 4,
 "nbformat_minor": 1
}
